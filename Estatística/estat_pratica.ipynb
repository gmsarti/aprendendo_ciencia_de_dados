{
 "metadata": {
  "language_info": {
   "codemirror_mode": {
    "name": "ipython",
    "version": 3
   },
   "file_extension": ".py",
   "mimetype": "text/x-python",
   "name": "python",
   "nbconvert_exporter": "python",
   "pygments_lexer": "ipython3",
   "version": "3.7.6-final"
  },
  "orig_nbformat": 2,
  "kernelspec": {
   "name": "python_defaultSpec_1599080866627",
   "display_name": "Python 3.7.6 64-bit ('base': conda)"
  }
 },
 "nbformat": 4,
 "nbformat_minor": 2,
 "cells": [
  {
   "cell_type": "markdown",
   "metadata": {},
   "source": [
    "# Estatística Prática para Cientistas de Dados\n",
    "\n",
    "Este notebook são anotações a partir da leitura do livro \"Estatística Prática para Cientistas de Dados\" de Peter Bruce e Andrew Bruce.\n",
    "\n",
    "\"_A disciplina de estatística se desenvolveu muito no último século. A teoria das probabilidades - o fundamento matemáticoda estatística - foi desenvolvida nos séculos XVII e XIX com base no trabalho de Thomas Bayes, Pierre-Simon Laplace e Carl Gauss. Ao contrário da natureza puramente teórica da probabilidade, a estatística é uma teoria aplicada, relacionada à análise e modelagem de dados._\"\n",
    "\n",
    "A diferença entre a **estatística** e a **ciência de dados** se reflete em diferentes abordagens. Enquanto a estatística tem na _contabilização das incertezas_ um dos centros da disciplina, a ciência de dados se foca em objetos concretos corporativos ou organizacionais."
   ]
  },
  {
   "cell_type": "code",
   "execution_count": 1,
   "metadata": {
    "tags": []
   },
   "outputs": [],
   "source": [
    "# Bibliotecas importantes para o notebook\n",
    "\n",
    "from random import randint\n",
    "import pandas as pd\n",
    "import numpy as np \n",
    "from scipy import stats\n",
    "import seaborn as sns\n",
    "import matplotlib.pyplot as plt\n",
    "\n",
    "\n",
    "l = []\n",
    "j = []\n",
    "for v in range(100):\n",
    "    x = randint(1,10)\n",
    "    y = randint(7,19)\n",
    "    l.append(x)\n",
    "    j.append(y)\n",
    "arr = np.array(j)\n",
    "\n",
    "\n",
    "iris = sns.load_dataset('iris')"
   ]
  },
  {
   "cell_type": "code",
   "execution_count": 2,
   "metadata": {
    "tags": []
   },
   "outputs": [
    {
     "output_type": "stream",
     "name": "stdout",
     "text": "CPython 3.7.6\nIPython 7.16.1\n\nrandom unknown\npandas 1.0.5\nnumpy 1.18.5\nscipy 1.5.0\nseaborn 0.10.1\nmatplotlib 3.2.2\nwatermark 2.0.2\n\ncompiler   : GCC 7.3.0\nsystem     : Linux\nrelease    : 5.4.0-42-generic\nmachine    : x86_64\nprocessor  : x86_64\nCPU cores  : 4\ninterpreter: 64bit\n \nlast updated: Wed Sep 02 2020 18:58:25 -03\n"
    }
   ],
   "source": [
    "# Usamos aqui o watermark para varrer o notebook e apontar quais pacotes e versões estamos usando\n",
    "# Isso é útil na hora de colocar isso no [binder](https://mybinder.org/) para que fique tudo certinho no requirements.txt\n",
    "\n",
    "%load_ext watermark\n",
    "\n",
    "# python, ipython, packages, and machine characteristics\n",
    "%watermark -v -m -p random,pandas,numpy,scipy,seaborn,matplotlib,watermark \n",
    "\n",
    "# date\n",
    "print (\" \")\n",
    "%watermark -u -n -t -z "
   ]
  },
  {
   "cell_type": "markdown",
   "metadata": {},
   "source": [
    "## Análise exploratória \n",
    "\n",
    "É um campo relativamente novo dentro da Estatística e nasce com o livro _Exploratory Data Analysis_ (Tukey 1977)\n",
    "\n",
    "É o exame prévio dos dados e que aponta para informações como máximo, mínimo, moda, média, mediana, quartis, amplitude, intervalo-interquartil, variância, desvio padrão, coeficiente de variação, tabelas de frequência etc.\n",
    "\n",
    "Também são muito úteis análises visuais como gráficos de barras, de setores, histograma, boxplot, gráfico de linha (sequência), polígono de frequências, diagrama de dispersão."
   ]
  },
  {
   "cell_type": "code",
   "execution_count": 3,
   "metadata": {
    "tags": []
   },
   "outputs": [
    {
     "output_type": "stream",
     "name": "stdout",
     "text": "O dataset Iris tem o formato: (150, 5)\nOu seja, 150 linhas por 5 colunas.\n\n###############\n\nAs colunas que temos são: Index(['sepal_length', 'sepal_width', 'petal_length', 'petal_width',\n       'species'],\n      dtype='object') \n\nE as primeiras 3 linhas tem esse formato:\n"
    },
    {
     "output_type": "display_data",
     "data": {
      "text/plain": "   sepal_length  sepal_width  petal_length  petal_width species\n0           5.1          3.5           1.4          0.2  setosa\n1           4.9          3.0           1.4          0.2  setosa\n2           4.7          3.2           1.3          0.2  setosa",
      "text/html": "<div>\n<style scoped>\n    .dataframe tbody tr th:only-of-type {\n        vertical-align: middle;\n    }\n\n    .dataframe tbody tr th {\n        vertical-align: top;\n    }\n\n    .dataframe thead th {\n        text-align: right;\n    }\n</style>\n<table border=\"1\" class=\"dataframe\">\n  <thead>\n    <tr style=\"text-align: right;\">\n      <th></th>\n      <th>sepal_length</th>\n      <th>sepal_width</th>\n      <th>petal_length</th>\n      <th>petal_width</th>\n      <th>species</th>\n    </tr>\n  </thead>\n  <tbody>\n    <tr>\n      <th>0</th>\n      <td>5.1</td>\n      <td>3.5</td>\n      <td>1.4</td>\n      <td>0.2</td>\n      <td>setosa</td>\n    </tr>\n    <tr>\n      <th>1</th>\n      <td>4.9</td>\n      <td>3.0</td>\n      <td>1.4</td>\n      <td>0.2</td>\n      <td>setosa</td>\n    </tr>\n    <tr>\n      <th>2</th>\n      <td>4.7</td>\n      <td>3.2</td>\n      <td>1.3</td>\n      <td>0.2</td>\n      <td>setosa</td>\n    </tr>\n  </tbody>\n</table>\n</div>"
     },
     "metadata": {}
    },
    {
     "output_type": "stream",
     "name": "stdout",
     "text": "\n###############\n\nO dataset Iris fala de flores. Quais são os tipode de flores e quantas delas temos?\n"
    },
    {
     "output_type": "display_data",
     "data": {
      "text/plain": "setosa        50\nversicolor    50\nvirginica     50\nName: species, dtype: int64"
     },
     "metadata": {}
    }
   ],
   "source": [
    "# Se estiver trabalhando com o _dataset_ quais são as dimensões dele?\n",
    "print(\"O dataset Iris tem o formato:\",iris.shape)\n",
    "print(\"Ou seja, 150 linhas por 5 colunas.\")\n",
    "\n",
    "print('\\n###############\\n')\n",
    "\n",
    "print('As colunas que temos são:', iris.columns,'\\n')\n",
    "\n",
    "print('E as primeiras 3 linhas tem esse formato:')\n",
    "display(iris.head(3))\n",
    "\n",
    "print('\\n###############\\n')\n",
    "\n",
    "print(\"O dataset Iris fala de flores. Quais são os tipode de flores e quantas delas temos?\")\n",
    "display(iris['species'].value_counts())"
   ]
  },
  {
   "cell_type": "markdown",
   "metadata": {},
   "source": [
    "## Tipos de Dados\n",
    "\n",
    "**Contínuos**\n",
    "- Dados que podem assumir qualquer valor em um intervalo\n",
    "\n",
    "**Discretos**\n",
    "- Dados que podem assumir apenas valores inteiros, como contagens\n",
    "\n",
    "**Categóricos**\n",
    "- Dados que podem assumir apenas um conjunto específico de valores representando um conjunto possível de categorias\n",
    "\n",
    "**Binários**\n",
    "- Dados categóricos com apenas duas categorias\n",
    "\n",
    "**Ordinais**\n",
    "- Dados categóricos que tem ordem explicita"
   ]
  },
  {
   "cell_type": "markdown",
   "metadata": {},
   "source": [
    "## Estimativas de Localização\n",
    " \n",
    "**Média**\n",
    "- Soma de todos valores, dividida pelo número de valores.\n",
    "\n",
    "**Média Ponderada**\n",
    "- Soma de todos valores, multiplicada por um peso e dividida pela soma dos pesos.\n",
    "\n",
    "**Mediana**\n",
    "- O valor que ocupa a posição central dos dados.\n",
    "- 50º percentil\n",
    "\n",
    "**Mediana Ponderada**\n",
    "- Valor cuja posição está no centro da soma dos pesos, estando metade da soma antes e metade depois desse dado.\n",
    "\n",
    "**Média aparada**\n",
    "- A média de todos os valores depois da exclusão de um número fixo de valores extremos.\n",
    "- Ex.: Dentre cinco notas retiramos a máxima, a mínima e faz-se a média com as outras 3.\n",
    "\n",
    "**Robusto**\n",
    "- Não sensível a valores extremos.\n",
    "\n",
    "**_Outlier_**\n",
    "- Um valor de dados que é muito diferente da maioria dos dados."
   ]
  },
  {
   "cell_type": "code",
   "execution_count": 6,
   "metadata": {
    "tags": []
   },
   "outputs": [
    {
     "output_type": "stream",
     "name": "stdout",
     "text": "Descrevendo a lista l temos:\n"
    },
    {
     "output_type": "display_data",
     "data": {
      "text/plain": "DescribeResult(nobs=100, minmax=(1, 10), mean=5.69, variance=9.508989898989899, skewness=-0.022340617848964565, kurtosis=-1.4085967925665486)"
     },
     "metadata": {}
    },
    {
     "output_type": "stream",
     "name": "stdout",
     "text": "\nDescrevendo a array arr temos:\n"
    },
    {
     "output_type": "display_data",
     "data": {
      "text/plain": "DescribeResult(nobs=100, minmax=(7, 19), mean=12.99, variance=14.050404040404045, skewness=0.07493105083251338, kurtosis=-1.2255131836294937)"
     },
     "metadata": {}
    },
    {
     "output_type": "stream",
     "name": "stdout",
     "text": "\nDescrevendo o dataframe iris temos:\n*Lembre que o 50% é a Mediana.\n"
    },
    {
     "output_type": "display_data",
     "data": {
      "text/plain": "       sepal_length  sepal_width  petal_length  petal_width\ncount    150.000000   150.000000    150.000000   150.000000\nmean       5.843333     3.057333      3.758000     1.199333\nstd        0.828066     0.435866      1.765298     0.762238\nmin        4.300000     2.000000      1.000000     0.100000\n25%        5.100000     2.800000      1.600000     0.300000\n50%        5.800000     3.000000      4.350000     1.300000\n75%        6.400000     3.300000      5.100000     1.800000\nmax        7.900000     4.400000      6.900000     2.500000",
      "text/html": "<div>\n<style scoped>\n    .dataframe tbody tr th:only-of-type {\n        vertical-align: middle;\n    }\n\n    .dataframe tbody tr th {\n        vertical-align: top;\n    }\n\n    .dataframe thead th {\n        text-align: right;\n    }\n</style>\n<table border=\"1\" class=\"dataframe\">\n  <thead>\n    <tr style=\"text-align: right;\">\n      <th></th>\n      <th>sepal_length</th>\n      <th>sepal_width</th>\n      <th>petal_length</th>\n      <th>petal_width</th>\n    </tr>\n  </thead>\n  <tbody>\n    <tr>\n      <th>count</th>\n      <td>150.000000</td>\n      <td>150.000000</td>\n      <td>150.000000</td>\n      <td>150.000000</td>\n    </tr>\n    <tr>\n      <th>mean</th>\n      <td>5.843333</td>\n      <td>3.057333</td>\n      <td>3.758000</td>\n      <td>1.199333</td>\n    </tr>\n    <tr>\n      <th>std</th>\n      <td>0.828066</td>\n      <td>0.435866</td>\n      <td>1.765298</td>\n      <td>0.762238</td>\n    </tr>\n    <tr>\n      <th>min</th>\n      <td>4.300000</td>\n      <td>2.000000</td>\n      <td>1.000000</td>\n      <td>0.100000</td>\n    </tr>\n    <tr>\n      <th>25%</th>\n      <td>5.100000</td>\n      <td>2.800000</td>\n      <td>1.600000</td>\n      <td>0.300000</td>\n    </tr>\n    <tr>\n      <th>50%</th>\n      <td>5.800000</td>\n      <td>3.000000</td>\n      <td>4.350000</td>\n      <td>1.300000</td>\n    </tr>\n    <tr>\n      <th>75%</th>\n      <td>6.400000</td>\n      <td>3.300000</td>\n      <td>5.100000</td>\n      <td>1.800000</td>\n    </tr>\n    <tr>\n      <th>max</th>\n      <td>7.900000</td>\n      <td>4.400000</td>\n      <td>6.900000</td>\n      <td>2.500000</td>\n    </tr>\n  </tbody>\n</table>\n</div>"
     },
     "metadata": {}
    }
   ],
   "source": [
    "# O python facilita na hora de tirar boa parte das estimativas de localização\n",
    "# Em caso de preguiça dá para usar o stats.describe(x) para listas e arrays ou o x.describe() para dataframes\n",
    "\n",
    "print(\"Descrevendo a lista l temos:\")\n",
    "display(stats.describe(l))\n",
    "\n",
    "print(\"\\nDescrevendo a array arr temos:\")\n",
    "#display(stats.describe(arr))\n",
    "display(stats.describe(arr))\n",
    "\n",
    "print(\"\\nDescrevendo o dataframe iris temos:\")\n",
    "print(\"*Lembre que o 50% é a Mediana.\")\n",
    "# print(\"**Lembre também ele não vai descrever dados categóricos.\") -> Conferir\n",
    "display(iris.describe())"
   ]
  },
  {
   "cell_type": "markdown",
   "metadata": {},
   "source": [
    "### Média\n",
    "Soma de todos valores, dividida pelo número de valores.\n",
    "\n",
    "![Média](imgs/media.png)"
   ]
  },
  {
   "cell_type": "code",
   "execution_count": 5,
   "metadata": {
    "tags": []
   },
   "outputs": [
    {
     "output_type": "stream",
     "name": "stdout",
     "text": "A média da lista l é: 5.69\n"
    }
   ],
   "source": [
    "print(\"A média da lista l é:\", np.mean(l))"
   ]
  },
  {
   "cell_type": "code",
   "execution_count": 7,
   "metadata": {},
   "outputs": [
    {
     "output_type": "execute_result",
     "data": {
      "text/plain": "6.0"
     },
     "metadata": {},
     "execution_count": 7
    }
   ],
   "source": [
    "np.median(l)"
   ]
  },
  {
   "cell_type": "code",
   "execution_count": null,
   "metadata": {},
   "outputs": [],
   "source": []
  }
 ]
}