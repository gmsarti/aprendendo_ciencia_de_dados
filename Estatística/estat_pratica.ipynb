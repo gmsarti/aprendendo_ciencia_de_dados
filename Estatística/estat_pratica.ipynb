{
 "metadata": {
  "language_info": {
   "codemirror_mode": {
    "name": "ipython",
    "version": 3
   },
   "file_extension": ".py",
   "mimetype": "text/x-python",
   "name": "python",
   "nbconvert_exporter": "python",
   "pygments_lexer": "ipython3",
   "version": "3.7.6-final"
  },
  "orig_nbformat": 2,
  "kernelspec": {
   "name": "python_defaultSpec_1599080866627",
   "display_name": "Python 3.7.6 64-bit ('base': conda)"
  }
 },
 "nbformat": 4,
 "nbformat_minor": 2,
 "cells": [
  {
   "cell_type": "markdown",
   "metadata": {},
   "source": [
    "# Estatística Prática para Cientistas de Dados\n",
    "\n",
    "Este notebook são anotações a partir da leitura do livro \"Estatística Prática para Cientistas de Dados\" de Peter Bruce e Andrew Bruce.\n",
    "\n",
    "\"_A disciplina de estatística se desenvolveu muito no último século. A teoria das probabilidades - o fundamento matemáticoda estatística - foi desenvolvida nos séculos XVII e XIX com base no trabalho de Thomas Bayes, Pierre-Simon Laplace e Carl Gauss. Ao contrário da natureza puramente teórica da probabilidade, a estatística é uma teoria aplicada, relacionada à análise e modelagem de dados._\"\n",
    "\n",
    "A diferença entre a **estatística** e a **ciência de dados** se reflete em diferentes abordagens. Enquanto a estatística tem na _contabilização das incertezas_ um dos centros da disciplina, a ciência de dados se foca em objetos concretos corporativos ou organizacionais."
   ]
  },
  {
   "cell_type": "markdown",
   "metadata": {},
   "source": [
    "## Análise exploratória \n",
    "\n",
    "É um campo relativamente novo dentro da Estatística e nasce com o livro _Exploratory Data Analysis_ (Tukey 1977)\n",
    "\n",
    "É o exame prévio dos dados e que aponta para informações como máximo, mínimo, moda, média, mediana, quartis, amplitude, intervalo-interquartil, variância, desvio padrão, coeficiente de variação, tabelas de frequência etc.\n",
    "\n",
    "Também são muito úteis análises visuais como gráficos de barras, de setores, histograma, boxplot, gráfico de linha (sequência), polígono de frequências, diagrama de dispersão."
   ]
  },
  {
   "cell_type": "markdown",
   "metadata": {},
   "source": [
    "## Tipos de Dados\n",
    "\n",
    "**Contínuos**\n",
    "- Dados que podem assumir qualquer valor em um intervalo\n",
    "\n",
    "**Discretos**\n",
    "- Dados que podem assumir apenas valores inteiros, como contagens\n",
    "\n",
    "**Categóricos**\n",
    "- Dados que podem assumir apenas um conjunto específico de valores representando um conjunto possível de categorias\n",
    "\n",
    "**Binários**\n",
    "- Dados categóricos com apenas duas categorias\n",
    "\n",
    "**Ordinais**\n",
    "- Dados categóricos que tem ordem explicita"
   ]
  },
  {
   "cell_type": "markdown",
   "metadata": {},
   "source": [
    "## Estimativas de Localização\n",
    " \n",
    "**Média**\n",
    "- Soma de todos valores, dividida pelo número de valores.\n",
    "\n",
    "**Média Ponderada**\n",
    "- Soma de todos valores, multiplicada por um peso e dividida pela soma dos pesos.\n",
    "\n",
    "**Mediana**\n",
    "- O valor que ocupa a posição central dos dados.\n",
    "- 50º percentil\n",
    "\n",
    "**Mediana Ponderada**\n",
    "- Valor cuja posição está no centro da soma dos pesos, estando metade da soma antes e metade depois desse dado.\n",
    "\n",
    "**Média aparada**\n",
    "- A média de todos os valores depois da exclusão de um número fixo de valores extremos.\n",
    "- Ex.: Dentre cinco notas retiramos a máxima, a mínima e faz-se a média com as outras 3.\n",
    "\n",
    "**Robusto**\n",
    "- Não sensível a valores extremos.\n",
    "\n",
    "**_Outlier_**\n",
    "- Um valor de dados que é muito diferente da maioria dos dados."
   ]
  },
  {
   "cell_type": "code",
   "execution_count": 1,
   "metadata": {
    "tags": []
   },
   "outputs": [],
   "source": [
    "from random import randint\n",
    "import numpy as np \n",
    "from scipy import stats\n",
    "\n",
    "l = []\n",
    "for v in range(100):\n",
    "    x = randint(1,10)\n",
    "    l.append(x)"
   ]
  },
  {
   "cell_type": "markdown",
   "metadata": {},
   "source": [
    "### Média\n",
    "Soma de todos valores, dividida pelo número de valores.\n",
    "\n",
    "![Média](imgs/media.png)"
   ]
  },
  {
   "cell_type": "code",
   "execution_count": 5,
   "metadata": {
    "tags": []
   },
   "outputs": [
    {
     "output_type": "stream",
     "name": "stdout",
     "text": "A média da lista l é: 5.31\n"
    }
   ],
   "source": [
    "print(\"A média da lista l é:\", np.mean(l))"
   ]
  }
 ]
}