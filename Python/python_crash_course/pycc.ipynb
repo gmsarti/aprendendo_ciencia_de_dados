{
 "cells": [
  {
   "cell_type": "markdown",
   "metadata": {
    "slideshow": {
     "slide_type": "slide"
    }
   },
   "source": [
    "# Aqui começa a apresentação\n",
    "\n",
    "Oi mundiçaiada!"
   ]
  },
  {
   "cell_type": "code",
   "execution_count": 3,
   "metadata": {
    "slideshow": {
     "slide_type": "slide"
    },
    "tags": []
   },
   "outputs": [
    {
     "output_type": "stream",
     "name": "stdout",
     "text": "Gustavo Sarti\nGUSTAVO SARTI\ngustavo sarti\n"
    }
   ],
   "source": [
    "# Para manipular a caixa alta de strings\n",
    "name = \"gustavo sarti\"\n",
    "print(name.title())\n",
    "caixa_alta = name.upper()\n",
    "print(caixa_alta)\n",
    "caixa_baixa = caixa_alta.lower()\n",
    "print(caixa_baixa)"
   ]
  },
  {
   "cell_type": "code",
   "execution_count": 4,
   "metadata": {
    "slideshow": {
     "slide_type": "slide"
    },
    "tags": []
   },
   "outputs": [
    {
     "output_type": "stream",
     "name": "stdout",
     "text": "arroz e feijão\n\tarroz\te\tfeijão\n\narroz\ne\nfeijão\n\n"
    }
   ],
   "source": [
    "# Com um \\t vc adiciona um tab\n",
    "af = \"arroz e feijão\"\n",
    "print(af)\n",
    "print(\"\\tarroz\\te\\tfeijão\")\n",
    "# Com \\n vc add uma quebra de linha\n",
    "print(\"\\narroz\\ne\\nfeijão\\n\")"
   ]
  },
  {
   "cell_type": "code",
   "execution_count": 5,
   "metadata": {
    "slideshow": {
     "slide_type": "subslide"
    },
    "tags": []
   },
   "outputs": [
    {
     "output_type": "stream",
     "name": "stdout",
     "text": "arroz e feijão\n"
    }
   ],
   "source": [
    "# Métodos são coisas que são usadas para influenciar uma variavel momentaneamente\n",
    "# Como o strip() que tira espaços\n",
    "j=af.strip()\n",
    "print(j)"
   ]
  },
  {
   "cell_type": "code",
   "execution_count": 6,
   "metadata": {
    "tags": []
   },
   "outputs": [
    {
     "output_type": "stream",
     "name": "stdout",
     "text": "8\n8\n8\n8.0\nmeu número favorito é 7, mas eu tb gosto do 3\n"
    }
   ],
   "source": [
    "#print(af)\n",
    "print(8*1)\n",
    "print(7+1)\n",
    "print(10-1-1)\n",
    "print(16/2)\n",
    "\n",
    "mfn = 7\n",
    "print(\"meu número favorito é {}, mas eu tb gosto do {}\".format(mfn, \"3\"))"
   ]
  },
  {
   "cell_type": "code",
   "execution_count": 7,
   "metadata": {
    "tags": []
   },
   "outputs": [
    {
     "output_type": "stream",
     "name": "stdout",
     "text": "['lista', 'de', 'listas']\nbard\nWarlock\nMinha última personagem doi uma Bard.\n['barbariaaaaan', 'bard', 'cleric', 'druid', 'fighter', 'monk', 'paladin', 'ranger', 'rogue', 'sorcerer', 'warlock', 'wizard']\n['barbariaaaaan', 'bard', 'cleric', 'druid', 'fighter', 'monk', 'paladin', 'ranger', 'rogue', 'sorcerer', 'warlock', 'wizard', 'necromante']\n['barbariaaaaan', 'bandid', 'bard', 'cleric', 'druid', 'fighter', 'monk', 'paladin', 'ranger', 'rogue', 'sorcerer', 'warlock', 'wizard', 'necromante']\n['barbariaaaaan', 'bard', 'cleric', 'druid', 'fighter', 'monk', 'paladin', 'ranger', 'rogue', 'sorcerer', 'warlock', 'wizard']\nnecromante\n['barbariaaaaan', 'bard', 'druid', 'fighter', 'monk', 'paladin', 'ranger', 'rogue', 'sorcerer', 'warlock', 'wizard']\n"
    }
   ],
   "source": [
    "# Listas\n",
    "# Agora a porra fica séria.\n",
    "\n",
    "l = ['lista','de','listas']\n",
    "print(l)\n",
    "\n",
    "# Para acessar uma lista você pode chamar elas pelo número em que a lista está ordenada\n",
    "DnD_Classes = [\"barbarian\", \"bard\", \"cleric\", \"druid\", \"fighter\", \"monk\",\"paladin\",\"ranger\",\"rogue\",\"sorcerer\",\"warlock\",\"wizard\"]\n",
    "print(DnD_Classes[1])\n",
    "# Vc tb pode aplicar metodos nas classes\n",
    "print(DnD_Classes[-2].title())\n",
    "# E chamar aquele elemento em outros lugares\n",
    "frase = \"Minha última personagem doi uma \"+DnD_Classes[1].title()+\".\"\n",
    "print(frase)\n",
    "\n",
    "# Para transformar um elemento é só sobrescrever\n",
    "DnD_Classes[0]=\"barbariaaaaan\"\n",
    "print(DnD_Classes)\n",
    "# Para add elementos vc usa os métodos append() ou insert()\n",
    "# append() -> add ao final      insert() -> add na posição marcada\n",
    "DnD_Classes.append(\"necromante\")\n",
    "print(DnD_Classes)\n",
    "DnD_Classes.insert(1,\"bandid\")\n",
    "print(DnD_Classes)\n",
    "\n",
    "# Para tirar elementos vc pode usar o statement del ou o método pop()\n",
    "# del -> deleta o elemento       pop() -> tira o último elemento da lista ou o marcado nos parenteses, mas pode deixar ele pronto para uso\n",
    "del DnD_Classes[1]\n",
    "nec = DnD_Classes.pop()\n",
    "print(DnD_Classes)\n",
    "print(nec)\n",
    "# Também pode ser usado o método remove() para tirar um elemento específico, ou todos de um tipo\n",
    "DnD_Classes.remove('cleric')\n",
    "print(DnD_Classes)\n",
    "DnD_Classes = [\"barbarian\", \"bard\", \"cleric\", \"druid\", \"fighter\", \"monk\",\"paladin\",\"ranger\",\"rogue\",\"sorcerer\",\"warlock\",\"wizard\"]\n"
   ]
  },
  {
   "cell_type": "code",
   "execution_count": 8,
   "metadata": {
    "tags": []
   },
   "outputs": [
    {
     "output_type": "stream",
     "name": "stdout",
     "text": "['wizard', 'warlock', 'sorcerer', 'rogue', 'ranger', 'paladin', 'monk', 'fighter', 'druid', 'cleric', 'bard', 'barbarian']\n['barbarian', 'bard', 'cleric', 'druid', 'fighter', 'monk', 'paladin', 'ranger', 'rogue', 'sorcerer', 'warlock', 'wizard']\n"
    }
   ],
   "source": [
    "# Organizando Listas\n",
    "# Para ordenar permanentemente use o método sort()\n",
    "DnD_Classes.sort(reverse=True)\n",
    "print(DnD_Classes)\n",
    "DnD_Classes.sort()\n",
    "print(DnD_Classes)"
   ]
  },
  {
   "cell_type": "code",
   "execution_count": 9,
   "metadata": {
    "tags": []
   },
   "outputs": [
    {
     "output_type": "stream",
     "name": "stdout",
     "text": "['G', 'd', 'e', 'r', 't']\n['d', 'r', 't', 'G', 'e']\n['e', 'G', 't', 'r', 'd']\n"
    }
   ],
   "source": [
    "# Para organizar TEMPORARIAMENTE use a função sorted() \n",
    "letras = [\"d\",\"r\",\"t\",\"G\", \"e\"]\n",
    "print(sorted(letras))\n",
    "print(letras)\n",
    "# Para reverter a ordem da lista use o método reverse()\n",
    "letras.reverse()\n",
    "print(letras)"
   ]
  },
  {
   "cell_type": "code",
   "execution_count": 10,
   "metadata": {
    "tags": []
   },
   "outputs": [
    {
     "output_type": "stream",
     "name": "stdout",
     "text": "No D&D temos 12 classes.\n"
    }
   ],
   "source": [
    "# Para saber o tamanho da lista use a função len()\n",
    "print(\"No D&D temos\", len(DnD_Classes), \"classes.\" )"
   ]
  },
  {
   "cell_type": "code",
   "execution_count": 11,
   "metadata": {
    "tags": []
   },
   "outputs": [
    {
     "output_type": "stream",
     "name": "stdout",
     "text": "Barbarian\nBard\nCleric\nDruid\nFighter\nMonk\nPaladin\nRanger\nRogue\nSorcerer\nWarlock\nWizard\n"
    }
   ],
   "source": [
    "# Loop em listas\n",
    "# A sintaxe é: \n",
    "# for item in lista_de_itens: quebra de linha faça alguma coisa\n",
    "for classe in DnD_Classes:\n",
    "    print(classe.title())\n"
   ]
  },
  {
   "cell_type": "code",
   "execution_count": 12,
   "metadata": {
    "tags": []
   },
   "outputs": [
    {
     "output_type": "stream",
     "name": "stdout",
     "text": "1\n2\n3\n4\n"
    },
    {
     "output_type": "execute_result",
     "data": {
      "text/plain": "[3, 5, 7, 9, 11]"
     },
     "metadata": {},
     "execution_count": 12
    }
   ],
   "source": [
    "# Criando listas com números\n",
    "# Na sintaxe inclui o primeiro e exclui o último\n",
    "for value in range(1,5):\n",
    "    print(value)\n",
    "\n",
    "# Para criar uma lista você deve usar a função list()\n",
    "# Em range temos range(começo, final, passo)\n",
    "numeros = list(range(3,13,2))\n",
    "numeros"
   ]
  },
  {
   "cell_type": "code",
   "execution_count": 13,
   "metadata": {
    "tags": []
   },
   "outputs": [
    {
     "output_type": "stream",
     "name": "stdout",
     "text": "[1, 4, 9, 16, 25, 36, 49, 64, 81, 100]\n"
    }
   ],
   "source": [
    "quadrados = []\n",
    "for value in range(1,11):\n",
    "    quadrado = value**2\n",
    "    quadrados.append(quadrado)\n",
    "\n",
    "print(quadrados)"
   ]
  },
  {
   "cell_type": "code",
   "execution_count": 14,
   "metadata": {
    "tags": []
   },
   "outputs": [
    {
     "output_type": "stream",
     "name": "stdout",
     "text": "[1, 4, 9, 16, 25, 36, 49, 64, 81, 100]\n"
    }
   ],
   "source": [
    " # FUCKING LIST COMPREHENSIONS\n",
    " # ou como escrever menos pra fazer o mesmo\n",
    "\n",
    " quad = [valor**2 for valor in range(1,11)]\n",
    " print(quad)"
   ]
  },
  {
   "cell_type": "code",
   "execution_count": 15,
   "metadata": {
    "tags": []
   },
   "outputs": [
    {
     "output_type": "stream",
     "name": "stdout",
     "text": "['cleric', 'druid', 'fighter']\n['barbarian', 'bard', 'cleric', 'druid', 'fighter']\n['warlock', 'wizard']\n\n\ncleric\ndruid\nfighter\nmonk\n\n\nBarbarian\nBard\nCleric\n"
    }
   ],
   "source": [
    "# Fatiando uma lista\n",
    "print (DnD_Classes[2:5])\n",
    "print (DnD_Classes[:5])\n",
    "print (DnD_Classes[-2:])\n",
    "print(\"\\n\")\n",
    "\n",
    "# Copiando listas\n",
    "classes = DnD_Classes[:]\n",
    "# Não dá certo fazer classes = DnD_Classes\n",
    "\n",
    "# Dá para fatiar e usar isso dentro de iterações\n",
    "[print(classe) for classe in DnD_Classes[2:6]]\n",
    "print('\\n')\n",
    "# Ou de um jeito com resultados mais limpos\n",
    "for classe in DnD_Classes[:3]:\n",
    "    print(classe.title())"
   ]
  },
  {
   "cell_type": "markdown",
   "metadata": {
    "tags": []
   },
   "source": [
    "## If Statements\n",
    "\n",
    "Para operadores aritiméticos, lógicos etc em Python olhe [AQUI](https://www.programiz.com/python-programming/operators)"
   ]
  },
  {
   "cell_type": "code",
   "execution_count": 16,
   "metadata": {
    "tags": []
   },
   "outputs": [
    {
     "output_type": "display_data",
     "data": {
      "text/plain": "False"
     },
     "metadata": {}
    },
    {
     "output_type": "display_data",
     "data": {
      "text/plain": "True"
     },
     "metadata": {}
    },
    {
     "output_type": "stream",
     "name": "stdout",
     "text": "\n\nNa verdade a é igual a 3.\n"
    }
   ],
   "source": [
    "# No cerne de todo If há um teste de condição. Um Verdadeiro vs Falso\n",
    "melhor_pastel = \"carne com ovo e azeitona\"\n",
    "display(melhor_pastel == 'queijo')\n",
    "display(melhor_pastel == 'carne com ovo e azeitona')\n",
    "# Tome cuidado com caixa alta e erros de digitação\n",
    "print(\"\\n\")\n",
    "# Você também pode checar diferenças usando != e comparar com < > <= e >=\n",
    "a = 7\n",
    "if a != 3:\n",
    "    print('Na verdade a é igual a 3.')"
   ]
  },
  {
   "cell_type": "code",
   "execution_count": 17,
   "metadata": {},
   "outputs": [
    {
     "output_type": "error",
     "ename": "NameError",
     "evalue": "name 'teste_condicional' is not defined",
     "traceback": [
      "\u001b[0;31m---------------------------------------------------------------------------\u001b[0m",
      "\u001b[0;31mNameError\u001b[0m                                 Traceback (most recent call last)",
      "\u001b[0;32m<ipython-input-17-14cbd9da0b45>\u001b[0m in \u001b[0;36m<module>\u001b[0;34m\u001b[0m\n\u001b[1;32m      1\u001b[0m \u001b[0;31m# If Statements simples seguem a seguinte estrutura\u001b[0m\u001b[0;34m\u001b[0m\u001b[0;34m\u001b[0m\u001b[0;34m\u001b[0m\u001b[0m\n\u001b[0;32m----> 2\u001b[0;31m \u001b[0;32mif\u001b[0m \u001b[0mteste_condicional\u001b[0m\u001b[0;34m:\u001b[0m\u001b[0;34m\u001b[0m\u001b[0;34m\u001b[0m\u001b[0m\n\u001b[0m\u001b[1;32m      3\u001b[0m     \u001b[0mfaça_alguma_coisa\u001b[0m\u001b[0;34m\u001b[0m\u001b[0;34m\u001b[0m\u001b[0m\n",
      "\u001b[0;31mNameError\u001b[0m: name 'teste_condicional' is not defined"
     ]
    }
   ],
   "source": [
    "# If Statements simples seguem a seguinte estrutura\n",
    "if teste_condicional:\n",
    "    faça_alguma_coisa"
   ]
  },
  {
   "cell_type": "code",
   "execution_count": 18,
   "metadata": {
    "tags": []
   },
   "outputs": [
    {
     "output_type": "stream",
     "name": "stdout",
     "text": "Você já pode dirigir.\nJá tirou a carta?\n\n\nVocê já pode votar.\nJá tirou o Título de eleitor?\n\n\nVocê é obrigado a votar.\n"
    }
   ],
   "source": [
    "idade = 23\n",
    "\n",
    "if idade >= 18:\n",
    "    print(\"Você já pode dirigir.\")\n",
    "    print(\"Já tirou a carta?\")\n",
    "    print(\"\\n\")\n",
    "\n",
    "# As coisas ficam mais complexas com a dupla Se e Se não\n",
    "\n",
    "if idade >= 16:\n",
    "    print(\"Você já pode votar.\")\n",
    "    print(\"Já tirou o Título de eleitor?\")\n",
    "else:\n",
    "    print(\"Precisa ter pelo menos 16 anos para votar.\")\n",
    "\n",
    "\n",
    "# E as coisas ficam ainda mais com uma sequencia de Se Então Se não\n",
    "# ou em Python if elif else -> if e elif precisam de condicionais, else não\n",
    "print(\"\\n\")\n",
    "if idade < 16:\n",
    "    print(\"Você ainda não pode votar.\")\n",
    "elif idade < 18:\n",
    "    print(\"Você já pode votar.\")\n",
    "elif idade < 65 :\n",
    "    print(\"Você é obrigado a votar.\")\n",
    "else:\n",
    "    print(\"Faz o que você quiser.\")"
   ]
  },
  {
   "cell_type": "code",
   "execution_count": 19,
   "metadata": {
    "tags": []
   },
   "outputs": [
    {
     "output_type": "stream",
     "name": "stdout",
     "text": "Bota  salsicha no dogão.\nTá sem vinagrete hoje.\nBota mostarda no dogão.\nBota  ketchup no dogão.\nTá sem pure hoje.\nBota  batata palha no dogão.\nGosto assim, caprichado!\n"
    }
   ],
   "source": [
    "# Você pode usar Ifs dentro de listas de formas diversas e criativas. Uma delas é para conferir se ela não está vazia\n",
    "recheio_dogao = []\n",
    "recheio_dogao = ['salsicha','vinagrete','mostarda','ketchup','pure','batata palha']\n",
    "tem_hoje = ['salsicha','mostarda','ketchup','batata palha']\n",
    "\n",
    "if recheio_dogao:\n",
    "    for ingrediente in recheio_dogao:\n",
    "        if ingrediente in tem_hoje:\n",
    "            print('Bota ',ingrediente,'no dogão.')\n",
    "        else:\n",
    "            print(\"Tá sem\",ingrediente,'hoje.')\n",
    "    print(\"Gosto assim, caprichado!\")\n",
    "else:\n",
    "    print(\"Nem existe isso. Dogão se recheio é só pão.\")"
   ]
  },
  {
   "cell_type": "markdown",
   "metadata": {},
   "source": [
    "## Dicionários\n",
    "\n",
    "Eles conectam informações relacionadas, como dados de uma pessoa, atributos de um personagem etc. \n",
    "Dicionários podem ser colocados dentro de outros dicionários e de listas. "
   ]
  },
  {
   "cell_type": "code",
   "execution_count": 20,
   "metadata": {
    "tags": []
   },
   "outputs": [
    {
     "output_type": "stream",
     "name": "stdout",
     "text": "verde\n"
    }
   ],
   "source": [
    "# Pode se começar com um dicionário vazio\n",
    "et_0 = {}\n",
    "# Mas ele também pode começar com elementos já\n",
    "\n",
    "# Dicionários são coleções de pares chave/valor (key/value)\n",
    "# Você pode usar as chaves para acessar os valores de um dicionário\n",
    "et_0 = {'cor':'verde', 'PV':5}\n",
    "print(et_0['cor'])"
   ]
  },
  {
   "cell_type": "code",
   "execution_count": 21,
   "metadata": {
    "tags": []
   },
   "outputs": [
    {
     "output_type": "stream",
     "name": "stdout",
     "text": "{'cor': 'verde', 'PV': 5, 'ataque': 1, 'defesa': 3, 'safadeza': 8}\n{'cor': 'verde', 'PV': 5, 'ataque': 1, 'defesa': 5, 'safadeza': 8}\n{'cor': 'verde', 'PV': 5, 'ataque': 1, 'defesa': 5}\n"
    }
   ],
   "source": [
    "# Para adicionar novos pares key/value\n",
    "et_0['ataque']=1\n",
    "et_0['defesa']=3\n",
    "et_0['safadeza']=8\n",
    "print(et_0)\n",
    "# Para mudar um value é bem parecido\n",
    "et_0['defesa']=5\n",
    "print(et_0)\n",
    "# Para tirar pares key/value\n",
    "del et_0['safadeza']\n",
    "print(et_0)"
   ]
  },
  {
   "cell_type": "code",
   "execution_count": 22,
   "metadata": {
    "tags": []
   },
   "outputs": [
    {
     "output_type": "stream",
     "name": "stdout",
     "text": "A arma favorita do ET 00 é o sabre de luz por motivos sentimentais.\n"
    }
   ],
   "source": [
    "# Dicionários também podem ser usados para armazenar informações similares de diversos objetos/pessoas diferentes\n",
    "arma = {\n",
    "    \"et_0\":'o sabre de luz',\n",
    "    'et_1':'a pistola laser',\n",
    "    'et_2':'a chave sônica'\n",
    "}\n",
    "\n",
    "print(\"A arma favorita do ET 00 é\",arma['et_0'],'por motivos sentimentais.')"
   ]
  },
  {
   "cell_type": "code",
   "execution_count": 23,
   "metadata": {
    "tags": []
   },
   "outputs": [
    {
     "output_type": "stream",
     "name": "stdout",
     "text": "cor - verde\nPV - 5\nataque - 1\ndefesa - 5\n"
    }
   ],
   "source": [
    "# Loop dentro de dicionários -> use o método items()\n",
    "for key, value in et_0.items():\n",
    "    print(key,'-',value)\n",
    "\n",
    "# ou seja for k,v in dicionário.items(): faça alguma coisa"
   ]
  },
  {
   "cell_type": "code",
   "execution_count": 24,
   "metadata": {
    "tags": []
   },
   "outputs": [
    {
     "output_type": "stream",
     "name": "stdout",
     "text": "Os ETs tem os seguintes atributos:\ncor\nPV\nataque\ndefesa\n\n\nE os atributos do ET 00 são:\nverde\n5\n1\n5\n"
    }
   ],
   "source": [
    "# Para fazer um loop pelas keys use o método keys() e para os values o método values()\n",
    "print(\"Os ETs tem os seguintes atributos:\")\n",
    "for k in et_0.keys(): print(k)\n",
    "print('\\n')\n",
    "print(\"E os atributos do ET 00 são:\")\n",
    "for v in et_0.values(): print(v)"
   ]
  },
  {
   "cell_type": "code",
   "execution_count": 25,
   "metadata": {
    "tags": []
   },
   "outputs": [
    {
     "output_type": "stream",
     "name": "stdout",
     "text": "{'cor': 'verde', 'PV': 5, 'ataque': 1, 'defesa': 5}\n{'cor': 'cinza', 'PV': 1, 'ataque': 3, 'defesa': 2}\n{'cor': 'cinza', 'PV': 1, 'ataque': 3, 'defesa': 2}\n{'cor': 'cinza', 'PV': 1, 'ataque': 3, 'defesa': 2}\n{'cor': 'amarelo', 'PV': 8, 'ataque': 1, 'defesa': 4}\n{'cor': 'amarelo', 'PV': 8, 'ataque': 1, 'defesa': 4}\n{'cor': 'amarelo', 'PV': 8, 'ataque': 1, 'defesa': 4}\n{'cor': 'azul', 'PV': 2, 'ataque': 5, 'defesa': 2}\n{'cor': 'azul', 'PV': 2, 'ataque': 5, 'defesa': 2}\n{'cor': 'azul', 'PV': 2, 'ataque': 5, 'defesa': 2}\n{'cor': 'cinza', 'PV': 1, 'ataque': 1, 'defesa': 1}\n"
    }
   ],
   "source": [
    "# Nesting é o termo para ir colocando as coisa dentro das outras coisas\n",
    "# Por exemplo dicionários dentro de uma lista\n",
    "\n",
    "ETs = []\n",
    "ETs.append(et_0)\n",
    "\n",
    "# Fazer 10 ets genericos e colocar na lista\n",
    "for et in range(10):\n",
    "    et = {'cor':'cinza', 'PV':1, 'ataque':1, 'defesa':1}\n",
    "    ETs.append(et)\n",
    "\n",
    "for et in ETs[1:4]:\n",
    "    if et['cor'] == 'cinza':\n",
    "        et['PV'] = 1\n",
    "        et['ataque'] = 3\n",
    "        et['defesa'] = 2\n",
    "\n",
    "for et in ETs[4:7]:\n",
    "    if et['cor'] == 'cinza':\n",
    "        et['cor'] = 'amarelo'\n",
    "        et['PV'] = 8\n",
    "        et['ataque'] = 1\n",
    "        et['defesa'] = 4\n",
    "\n",
    "for et in ETs[7:10]:\n",
    "    if et['cor'] == 'cinza':\n",
    "        et['cor'] = 'azul'\n",
    "        et['PV'] = 2\n",
    "        et['ataque'] = 5\n",
    "        et['defesa'] = 2                \n",
    "\n",
    "for et in ETs:\n",
    "    print(et)"
   ]
  },
  {
   "cell_type": "code",
   "execution_count": 26,
   "metadata": {
    "tags": []
   },
   "outputs": [
    {
     "output_type": "stream",
     "name": "stdout",
     "text": "estilo - ['prensado', 'sem prensar']\nsalsicha - ['normal', 'vegetariana', 'picante']\ncomplementos - ['bacon', 'vinagrete', 'batata palha', 'pure']\ntemperos - ['ketchup', 'mostarda', 'pimenta']\n"
    }
   ],
   "source": [
    "# Da para fazer o contrário e colocar listas dentro de um dicionário\n",
    "dogao = {\n",
    "    'estilo':['prensado','sem prensar'],\n",
    "    'salsicha':['normal', 'vegetariana', 'picante'],\n",
    "    'complementos':['bacon', 'vinagrete', 'batata palha', 'pure'],\n",
    "    'temperos':['ketchup','mostarda', 'pimenta'],\n",
    "}\n",
    "\n",
    "for k, v in dogao.items():\n",
    "    print(k, '-',v)"
   ]
  },
  {
   "cell_type": "code",
   "execution_count": 27,
   "metadata": {
    "tags": []
   },
   "outputs": [
    {
     "output_type": "stream",
     "name": "stdout",
     "text": "\nUsername: aeinstein\n\tFull name: Albert Einstein\n\tLocation: Princeton\n\nUsername: mcurie\n\tFull name: Marie Curie\n\tLocation: Paris\n"
    }
   ],
   "source": [
    "# Por fim dá para colocar dicionarios dentro de dicionários\n",
    "users = {\n",
    "    'aeinstein': {\n",
    "        'first': 'albert',\n",
    "        'last': 'einstein',\n",
    "        'location': 'princeton',\n",
    "        },\n",
    "\n",
    "    'mcurie': {\n",
    "        'first': 'marie',\n",
    "        'last': 'curie',\n",
    "        'location': 'paris',\n",
    "        },\n",
    "}\n",
    "\n",
    "for username, user_info in users.items():\n",
    "    print(\"\\nUsername: \" + username)\n",
    "    full_name = user_info['first'] + \" \" + user_info['last']\n",
    "    location = user_info['location']\n",
    "\n",
    "    print(\"\\tFull name: \" + full_name.title())\n",
    "    print(\"\\tLocation: \" + location.title())"
   ]
  },
  {
   "cell_type": "markdown",
   "metadata": {},
   "source": [
    "## Inputs e While Loops\n",
    "\n",
    "Inputs são formas de que os usuários coloquem respostas a algo que o programa coloquem.\n",
    "Os While Loops repetem algo enquanto alguma condição não é atendida.\n",
    "\n",
    "Cuidado com os Loops infinitos."
   ]
  },
  {
   "cell_type": "code",
   "execution_count": 28,
   "metadata": {
    "tags": []
   },
   "outputs": [
    {
     "output_type": "stream",
     "name": "stdout",
     "text": "gustavo\n"
    }
   ],
   "source": [
    "# Aqui no VS Code aparece uma caixa de diálogo ali em cima (na parte de cima da tela).\n",
    "\n",
    "nome = input(\"Qual o seu nome?\")\n",
    "print(nome)"
   ]
  },
  {
   "cell_type": "code",
   "execution_count": 29,
   "metadata": {
    "tags": []
   },
   "outputs": [
    {
     "output_type": "stream",
     "name": "stdout",
     "text": "\nHello, gustavo!\n"
    }
   ],
   "source": [
    "prompt = \"If you tell us who you are, we can personalize the messages you see.\"\n",
    "prompt += \"\\nWhat is your first name? \"\n",
    "name = input(prompt)\n",
    "print(\"\\nHello, \" + name + \"!\")"
   ]
  },
  {
   "cell_type": "code",
   "execution_count": 30,
   "metadata": {
    "tags": []
   },
   "outputs": [
    {
     "output_type": "stream",
     "name": "stdout",
     "text": "1\n2\n3\n4\n5\n\nTchubirubalá\n"
    }
   ],
   "source": [
    "# Os loops são úteis para fazer um bocado de coisas. Os mais simples são algo assim:\n",
    "current_number = 1\n",
    "while current_number <= 5:\n",
    "    print(current_number)\n",
    "    current_number += 1\n",
    "\n",
    "print(\"\\nTchubirubalá\")"
   ]
  },
  {
   "cell_type": "code",
   "execution_count": 31,
   "metadata": {
    "tags": []
   },
   "outputs": [],
   "source": [
    "# Uma das formas de trabalhar com os while loops são com bandeiras(flags)\n",
    "prompt = \"\\nTell me something, and I will repeat it back to you:\"\n",
    "prompt += \"\\nEnter 'quit' to end the program. \"\n",
    "active = True\n",
    "while active:\n",
    "    message = input(prompt)\n",
    "\n",
    "    if message == 'quit':\n",
    "        active = False\n",
    "    else:\n",
    "        print(message)"
   ]
  },
  {
   "cell_type": "code",
   "execution_count": 32,
   "metadata": {
    "tags": []
   },
   "outputs": [],
   "source": [
    "# Voce pode alcançar a mesma coisa com o statement break\n",
    "prompt = \"\\nQuer comprar um picapau?\"\n",
    "\n",
    "while True:\n",
    "    continua = input(prompt)\n",
    "\n",
    "    if continua == \"para\":\n",
    "        break\n",
    "    print('Ow...')"
   ]
  },
  {
   "cell_type": "code",
   "execution_count": 33,
   "metadata": {
    "tags": []
   },
   "outputs": [
    {
     "output_type": "stream",
     "name": "stdout",
     "text": "1\n3\n5\n7\n9\n"
    }
   ],
   "source": [
    "# também dá pra usar o continue dentro de um condicional para pular partes de código\n",
    "# Nesse caso, se o resto da divisão por 2 for 0, então vc continua, se não vc dá o print\n",
    "current_number = 0\n",
    "while current_number < 10:\n",
    "\n",
    "    current_number += 1\n",
    "    if current_number % 2 == 0:\n",
    "        continue\n",
    "\n",
    "    print(current_number)"
   ]
  },
  {
   "cell_type": "code",
   "execution_count": 34,
   "metadata": {
    "tags": []
   },
   "outputs": [
    {
     "output_type": "stream",
     "name": "stdout",
     "text": "Ok então...\n"
    }
   ],
   "source": [
    "# Preenchendo um dicionário com respostas dos usuários\n",
    "\n",
    "# Criando um dicionário vazio\n",
    "personagem = {}\n",
    "inicio = input(\"Vamos fazer um personagem? (s/n)\")\n",
    "\n",
    "while True:\n",
    "    \n",
    "    if inicio == \"n\":\n",
    "        print(\"Ok então...\")\n",
    "        break\n",
    "    else:\n",
    "        # Criando as variaveis com os inputs\n",
    "        print(\"Então vamos lá!\")\n",
    "        name = input(\"Qual o nome do seu personagem?\")\n",
    "        classe = input(\"Qual a classe dele?\")\n",
    "        raca = input(\"Qual a raça dele?\")\n",
    "\n",
    "        # Associa as variaveis como values no dicionário\n",
    "        personagem['nome'] = name\n",
    "        personagem['classe'] = classe\n",
    "        personagem['raça'] = raca\n",
    "        \n",
    "        print(\"Seu personagem é da classe\",personagem['classe'], 'da raça', personagem['raça'], 'e se chama', personagem['nome']+\"? Maneiro!\")\n",
    "        break\n",
    "\n",
    "\n"
   ]
  },
  {
   "cell_type": "markdown",
   "metadata": {},
   "source": [
    "## Funções\n",
    "Funções são blocos de código que 1) tem um nome pelo qual podemos chamalas e 2) tem uma função específica.\n",
    "\n",
    "Até aqui já usamos muitas funções, mas a que mais repetimos deve ter sido a print().\n",
    "\n",
    "Nós vamos ver como fazer nossas próprias funções."
   ]
  },
  {
   "cell_type": "code",
   "execution_count": 35,
   "metadata": {},
   "outputs": [],
   "source": [
    "def criar_personagem():\n",
    "    \"\"\"Faz perguntas básicas sobre seu personagem.\"\"\"\n",
    "\n",
    "    # Vamos aproveitar o código que acabamos de fazer ali em cima\n",
    "    # Criando um dicionário vazio\n",
    "    personagem = {}\n",
    "    inicio = input(\"Vamos fazer um personagem? (s/n)\")\n",
    "\n",
    "    while True:\n",
    "        \n",
    "        if inicio == \"n\":\n",
    "            print(\"Ok então...\")\n",
    "            break\n",
    "        else:\n",
    "            # Criando as variaveis com os inputs\n",
    "            print(\"Então vamos lá!\")\n",
    "            name = input(\"Qual o nome do seu personagem?\")\n",
    "            classe = input(\"Qual a classe dele?\")\n",
    "            raca = input(\"Qual a raça dele?\")\n",
    "\n",
    "            # Associa as variaveis como values no dicionário\n",
    "            personagem['nome'] = name\n",
    "            personagem['classe'] = classe\n",
    "            personagem['raça'] = raca\n",
    "            \n",
    "            print(\"Seu personagem é da classe\",personagem['classe'], 'da raça', personagem['raça'], 'e se chama', personagem['nome']+\"? Maneiro!\")\n",
    "            break"
   ]
  },
  {
   "cell_type": "code",
   "execution_count": 36,
   "metadata": {
    "tags": []
   },
   "outputs": [
    {
     "output_type": "stream",
     "name": "stdout",
     "text": "Ok então...\n"
    }
   ],
   "source": [
    "# Ai podemos chamar a função\n",
    "criar_personagem()"
   ]
  },
  {
   "cell_type": "code",
   "execution_count": 37,
   "metadata": {
    "tags": []
   },
   "outputs": [
    {
     "output_type": "stream",
     "name": "stdout",
     "text": "121\n-2\n"
    }
   ],
   "source": [
    "# Pode se pedir informações direto na função \n",
    "# Nesse caso chamamos essas informações de parametros\n",
    "\n",
    "def quadrado(x):\n",
    "    \"\"\"Retorna o valor de x ao quadrado.\"\"\"\n",
    "    print(x**2)\n",
    "\n",
    "def junta_numero(x,y,z):\n",
    "    \"\"\"Multiplica por z a soma de x e y.\"\"\"\n",
    "    print(z*(x+y))\n",
    "\n",
    "\n",
    "quadrado(11)\n",
    "junta_numero(3,-4,2)"
   ]
  },
  {
   "cell_type": "code",
   "execution_count": 38,
   "metadata": {
    "tags": []
   },
   "outputs": [
    {
     "output_type": "stream",
     "name": "stdout",
     "text": "\n O personagem chamado Carolzona é um Humana Arquiteta.\n\n O personagem chamado Gustavo é um humano Zé Ruela.\n"
    }
   ],
   "source": [
    "# Argumentos posicionais precisam ser bater com os parametros definidos na função.\n",
    "def new_char(nome, classe, raca):\n",
    "    \"\"\"Cria um novo personagem.\"\"\"\n",
    "    print(\"\\n O personagem chamado\",nome, \"é um\", raca,classe+\".\")\n",
    "\n",
    "new_char(\"Carolzona\",\"Arquiteta\", \"Humana\")\n",
    "\n",
    "# Quando escreve uma função você pode definir um valor padrão para cada um dos parâmetros\n",
    "# Quando fizer isso, se aquele valor não for preenchido quando chamar a função.\n",
    "\n",
    "def new_char_h(nome, classe = \"Zé Ruela\", raca = 'humano'):\n",
    "    \"\"\"Cria um novo personagem.\"\"\"\n",
    "    print(\"\\n O personagem chamado\",nome, \"é um\", raca,classe+\".\")\n",
    "\n",
    "new_char_h(\"Gustavo\")"
   ]
  },
  {
   "cell_type": "code",
   "execution_count": 39,
   "metadata": {
    "tags": []
   },
   "outputs": [
    {
     "output_type": "stream",
     "name": "stdout",
     "text": "Nome - Leonardo\nSobrenome - Gallep\nCidade - Sorocaba\nIdade - 34\nProfissão - Traquitaneiro\n"
    }
   ],
   "source": [
    "# É possível deixar o número de pares argumentos/parâmetros aberto\n",
    "# É o caso de se usar quando, por exemplo, se está fazendo o perfil de usuário e não se sabe todas as características possiveis para descrever\n",
    "# Para fazer isso você deve passar um parâmetro com dois asteriscos antes -> **parametro_maroto\n",
    "# Isso cria um dicionário vazio chamado parametro_maroto\n",
    "\n",
    "def perfil(nome, sobrenome, **info):\n",
    "    \"\"\"Cria um dicionário com tudo que sabemos sobre a pessoa.\"\"\"\n",
    "    perfil = {}\n",
    "    perfil['nome'] = nome\n",
    "    perfil['sobrenome'] = sobrenome\n",
    "    for k, v in info.items():\n",
    "        perfil[k] = v\n",
    "    return perfil\n",
    "\n",
    "Ze = perfil('leonardo', 'gallep',cidade='sorocaba', idade = 34, profissão = 'traquitaneiro')\n",
    "for k,v in Ze.items(): print(k.title(),\"-\",str(v).title())"
   ]
  },
  {
   "cell_type": "markdown",
   "metadata": {},
   "source": [
    "## Classes\n",
    "\n",
    "Classes representam coisas ou situações do mundo real. Em Python as classes criam objetos,e daí sua relação com a programação orientada a objetos.\n",
    "\n",
    "Chamamos de instanciar o processo de criar um objeto a partir de uma classe. "
   ]
  },
  {
   "cell_type": "code",
   "execution_count": 40,
   "metadata": {
    "tags": []
   },
   "outputs": [
    {
     "output_type": "stream",
     "name": "stdout",
     "text": "A Khali tem 6 anos.\nKhali sentou e está esperando o petisco.\nKhali e Lola são as cachorras do Vertice Studio Criativo.\n"
    }
   ],
   "source": [
    "# Criar uma classe de cachorro é pensar em um cachorro platônico\n",
    "# O que é que representa todos os cachorros e que podemos traduzir em código?\n",
    "# Sabemos que cachorros tem um nome, uma raça, uma idade. Sabemos que eles fazem alguns truques\n",
    "\n",
    "class Cachorro():\n",
    "    \"\"\"Um modelo simples de cão.\"\"\"\n",
    "\n",
    "    def __init__(self, nome, raca, idade):      # Isso aqui é um método | O self é obrigatório\n",
    "        \"\"\"Inicializa nome, raça e idade.\"\"\"\n",
    "        self.nome = nome            # Variáveis inicializadas com o self ficam disponíveis para todos os métodos | Essas variáveis são chamadas de atributos\n",
    "        self.raca = raca\n",
    "        self.idade = idade\n",
    "\n",
    "    def senta(self):        # Isso aqui tb é um método | Como ele não precisa de mais info ele só precisa do parâmetro self\n",
    "        \"\"\"Simula o cão sentando.\"\"\"\n",
    "        print(self.nome.title(), \"sentou e está esperando o petisco.\")\n",
    "\n",
    "    def da_pata(self):        # Isso aqui tb é um método |\n",
    "        \"\"\"O cão dá a pata.\"\"\"\n",
    "        print(self.nome.title(), \"deu a pata e quer muito um petisco.\")\n",
    "\n",
    "khali = Cachorro(\"khali\", 'vira lata',6)\n",
    "lola = Cachorro('lola', 'vira lata', 8)\n",
    "\n",
    "# Para chamar o atributo é só fazer desse jeito ai em baixo\n",
    "print('A',khali.nome.title(),'tem', khali.idade,'anos.')\n",
    "khali.senta()\n",
    "\n",
    "print(khali.nome.title(), 'e', lola.nome.title(), 'são as cachorras do Vertice Studio Criativo.')\n"
   ]
  },
  {
   "cell_type": "code",
   "execution_count": 41,
   "metadata": {},
   "outputs": [],
   "source": [
    "# Classe filha é uma classe toma os atributos da Classe principal e usa esses atributos para detalhar ou criar em cima\n",
    "\n",
    "class Conjurador():\n",
    "    \"\"\"Cria um mago\"\"\"\n",
    "\n",
    "    def __init__(self, nome, nivel):\n",
    "        \"\"\"Fala o básico sobre o sujeito.\"\"\"\n",
    "        self.nome = nome\n",
    "        self.nivel = nivel\n",
    "\n",
    "    def experiencia(self):\n",
    "        \"\"\"Quão experiente é o conjurador\"\"\"\n",
    "        if self.nivel < 3:\n",
    "            print(self.nome.title(),\"é iniciante nas artes mágicas\")\n",
    "        elif self.nivel < 7:\n",
    "            print(self.nome.title(),\"já provou seu valor e sua proficiência mágica.\")\n",
    "        elif self.nivel < 15:\n",
    "            print(self.nome.title(),\"conhece muito sobre magia.\")\n",
    "        elif self.nivel <= 20:\n",
    "            print(\"Poucos dominam as artes mágicas como\",self.nome.title()+\".\")\n",
    "\n",
    "class Necromante(Conjurador):\n",
    "    \"\"\"Detalha os poderes sobre os mortos.\"\"\"\n",
    "    def __init__(self, nome, nivel):\n",
    "        \"\"\"Inicializa os atributos da classe parental e depois inicializa as cosias específicas dos necromantes.\"\"\"\n",
    "        super().__init__ (nome, nivel)\n",
    "        self.amuleto = 'olho petrificado'\n",
    "\n",
    "\n",
    "    def necromancia(self):\n",
    "        \"\"\"Quão experiente é o conjurador\"\"\"\n",
    "        if self.nivel < 3:\n",
    "            print(self.nome.title(),\"sabe reanimar pequenos animais\")\n",
    "        elif self.nivel < 7:\n",
    "            print(self.nome.title(),\"se comunica com os espíritos dos mortos.\")\n",
    "        elif self.nivel < 15:\n",
    "            print(self.nome.title(),\"comanda uma horda de mortos vivos com seu\",self.amuleto.title()+\".\")\n",
    "        elif self.nivel <= 20:\n",
    "            print(self.nome.title(), 'tem livre passagem entre o mundo dos vivos e dos mortos.')"
   ]
  },
  {
   "cell_type": "code",
   "execution_count": 42,
   "metadata": {
    "tags": []
   },
   "outputs": [
    {
     "output_type": "stream",
     "name": "stdout",
     "text": "Areia Negra conhece muito sobre magia.\nAreia Negra comanda uma horda de mortos vivos com seu Olho Petrificado.\n"
    }
   ],
   "source": [
    "an = Necromante(\"Areia Negra\",12)\n",
    "an.experiencia()\n",
    "an.necromancia()"
   ]
  },
  {
   "cell_type": "code",
   "execution_count": 46,
   "metadata": {
    "tags": []
   },
   "outputs": [
    {
     "output_type": "stream",
     "name": "stdout",
     "text": "Poucos dominam as artes mágicas como Hedran.\n"
    }
   ],
   "source": [
    "he = Conjurador(\"Hedran\",20)\n",
    "he.experiencia()"
   ]
  },
  {
   "cell_type": "markdown",
   "metadata": {},
   "source": [
    "## Documentação do notebook\n",
    "\n",
    "Abaixo usei a biblioteca watermark para pegar informações sobre o notebook como as bibliotecas usadas e suas respectivas versões.\n",
    "\n",
    "Isso é relevante para que criar o documento requirements.txt que mais tarde é usado para criar o Binder."
   ]
  },
  {
   "cell_type": "code",
   "execution_count": 44,
   "metadata": {
    "tags": []
   },
   "outputs": [],
   "source": [
    "import pandas as pd  \n",
    "import numpy  as np\n",
    "# !pip install watermark"
   ]
  },
  {
   "cell_type": "code",
   "execution_count": 45,
   "metadata": {
    "tags": []
   },
   "outputs": [
    {
     "output_type": "stream",
     "name": "stdout",
     "text": "CPython 3.7.6\nIPython 7.16.1\n\npandas 1.0.5\nnumpy 1.18.5\nwatermark 2.0.2\n\ncompiler   : GCC 7.3.0\nsystem     : Linux\nrelease    : 5.4.0-42-generic\nmachine    : x86_64\nprocessor  : x86_64\nCPU cores  : 4\ninterpreter: 64bit\n \nlast updated: Mon Aug 31 2020 09:44:13 -03\n"
    }
   ],
   "source": [
    "# Usamos aqui o watermark para varrer o notebook e apontar quais pacotes e versões estamos usando\n",
    "# Isso é útil na hora de colocar isso no [binder](https://mybinder.org/) para que fique tudo certinho no requirements.txt\n",
    "\n",
    "\n",
    "\n",
    "%load_ext watermark\n",
    "\n",
    "# python, ipython, packages, and machine characteristics\n",
    "%watermark -v -m -p pandas,numpy,watermark \n",
    "\n",
    "# date\n",
    "print (\" \")\n",
    "%watermark -u -n -t -z "
   ]
  }
 ],
 "metadata": {
  "celltoolbar": "Slideshow",
  "kernelspec": {
   "display_name": "Python 3",
   "language": "python",
   "name": "python3"
  },
  "language_info": {
   "codemirror_mode": {
    "name": "ipython",
    "version": 3
   },
   "file_extension": ".py",
   "mimetype": "text/x-python",
   "name": "python",
   "nbconvert_exporter": "python",
   "pygments_lexer": "ipython3",
   "version": "3.7.6-final"
  }
 },
 "nbformat": 4,
 "nbformat_minor": 2
}