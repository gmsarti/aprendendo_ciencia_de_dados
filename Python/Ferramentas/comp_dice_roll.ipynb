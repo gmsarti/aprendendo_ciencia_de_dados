{
 "metadata": {
  "language_info": {
   "codemirror_mode": {
    "name": "ipython",
    "version": 3
   },
   "file_extension": ".py",
   "mimetype": "text/x-python",
   "name": "python",
   "nbconvert_exporter": "python",
   "pygments_lexer": "ipython3",
   "version": "3.7.6-final"
  },
  "orig_nbformat": 2,
  "kernelspec": {
   "name": "python_defaultSpec_1598988339180",
   "display_name": "Python 3.7.6 64-bit ('base': conda)"
  }
 },
 "nbformat": 4,
 "nbformat_minor": 2,
 "cells": [
  {
   "cell_type": "code",
   "execution_count": 2,
   "metadata": {},
   "outputs": [],
   "source": [
    "from random import randint\n",
    "import pygal"
   ]
  },
  {
   "cell_type": "code",
   "execution_count": 4,
   "metadata": {},
   "outputs": [],
   "source": [
    "class Dado():\n",
    "    \"\"\"Representa uma rolagem de dado\"\"\"\n",
    "\n",
    "    def __init__(self,lados=6):\n",
    "        \"\"\"Permite rolagens diferentes, mas assume como padrão 1d6.\"\"\"\n",
    "        self.lados = lados\n",
    "        \n",
    "\n",
    "    def roll(self):\n",
    "        \"\"\"Entrega um valor entre 1 e o nº de lados do dado.\"\"\"\n",
    "        return randint(1,self.lados)\n",
    "\n",
    "    def vantagem(self):\n",
    "        \"\"\"Rola dois dados e fica com o maior.\"\"\"\n",
    "        r1 = randint(1,self.lados)\n",
    "        r2 = randint(1,self.lados)\n",
    "        if r1 > r2:\n",
    "            return r1\n",
    "        return r2\n",
    "\n",
    "    def desvantagem(self):\n",
    "        \"\"\"Rola dois dados e fica com o menor.\"\"\"\n",
    "        r1 = randint(1,self.lados)\n",
    "        r2 = randint(1,self.lados)\n",
    "        if r1 < r2:\n",
    "            return r1\n",
    "        return r2"
   ]
  },
  {
   "cell_type": "code",
   "execution_count": 6,
   "metadata": {},
   "outputs": [],
   "source": [
    "def comp_norm_vant_desv(lados_do_dado,n_de_rolagens):\n",
    "    \"\"\"Compara a frequência dos resultados de x rolagens de dados de y lados em rolagens normais, em rolagens em vantagem e em rolagens em desvantagem.\"\"\"\n",
    "\n",
    "\n",
    "    dado = Dado(lados_do_dado)\n",
    "    rolagens = n_de_rolagens\n",
    "\n",
    "    # Rolagens\n",
    "\n",
    "    resultados = []\n",
    "    vtgs = []\n",
    "    desvtgs = []\n",
    "\n",
    "    for r in range(rolagens):\n",
    "        resultado = dado.roll()\n",
    "        resultados.append(resultado)\n",
    "\n",
    "    for v in range(rolagens):\n",
    "        vtg = dado.vantagem()\n",
    "        vtgs.append(vtg)\n",
    "\n",
    "    for d in range(rolagens):\n",
    "        desvtg = dado.desvantagem()\n",
    "        desvtgs.append(desvtg)\n",
    "\n",
    "\n",
    "    # Análise dos resultados\n",
    "\n",
    "    freq_normal = []\n",
    "    freq_vtg = []\n",
    "    freq_desvtg = []\n",
    "\n",
    "\n",
    "    for v in range(1,dado.lados+1):\n",
    "        frequencia = resultados.count(v)\n",
    "        freq_normal.append(frequencia)\n",
    "\n",
    "    for v in range(1,dado.lados+1):\n",
    "        frequencia = vtgs.count(v)\n",
    "        freq_vtg.append(frequencia)\n",
    "\n",
    "    for v in range(1,dado.lados+1):\n",
    "        frequencia = desvtgs.count(v)\n",
    "        freq_desvtg.append(frequencia)\n",
    "\n",
    "    # Plotagem\n",
    "\n",
    "    # Visualizando os dados gerados acima\n",
    "\n",
    "    etiquetas = []\n",
    "    for e in range(1,dado.lados+1):\n",
    "        etiquetas.append(str(e))\n",
    "    \n",
    "    hist = pygal.Bar()\n",
    "    \n",
    "    hist.title = \"Resultados de \"+str(n_de_rolagens)+\" rollagens de 1d\"+str(dado.lados)\n",
    "    hist.x_labels = etiquetas\n",
    "    hist.x_title = 'Resultado'\n",
    "    hist.y_title = 'Frequência do resultado'\n",
    "\n",
    "    #hist_n.add('1d'+str(dado.lados), freq_normal)\n",
    "    hist.add('Desvantagem', freq_desvtg)\n",
    "    hist.add('Vantagem', freq_vtg)\n",
    "    hist.add('Rolagem normal', freq_normal)\n",
    "    hist.render_to_file('grafico.svg')\n",
    "\n",
    "    "
   ]
  },
  {
   "cell_type": "code",
   "execution_count": 8,
   "metadata": {},
   "outputs": [],
   "source": [
    "comp_norm_vant_desv(20,1000000)"
   ]
  },
  {
   "cell_type": "code",
   "execution_count": null,
   "metadata": {},
   "outputs": [],
   "source": []
  },
  {
   "cell_type": "code",
   "execution_count": null,
   "metadata": {},
   "outputs": [],
   "source": []
  }
 ]
}