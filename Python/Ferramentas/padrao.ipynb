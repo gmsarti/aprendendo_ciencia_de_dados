{
 "metadata": {
  "language_info": {
   "codemirror_mode": {
    "name": "ipython",
    "version": 3
   },
   "file_extension": ".py",
   "mimetype": "text/x-python",
   "name": "python",
   "nbconvert_exporter": "python",
   "pygments_lexer": "ipython3",
   "version": "3.7.6-final"
  },
  "orig_nbformat": 2,
  "kernelspec": {
   "name": "python3",
   "display_name": "Python 3"
  }
 },
 "nbformat": 4,
 "nbformat_minor": 2,
 "cells": [
  {
   "source": [
    "# Design principles for data science\n",
    "\n",
    "Ferramentas úteis para acelerar o processo de análise de dados"
   ],
   "cell_type": "markdown",
   "metadata": {}
  },
  {
   "source": [
    "## Sempre comece com o designe de *datasets* e *data entities*\n",
    "\n",
    "Usando como base esse [post](https://towardsdatascience.com/4-design-principles-for-data-processing-964d6a45cb7c)"
   ],
   "cell_type": "markdown",
   "metadata": {}
  },
  {
   "cell_type": "code",
   "execution_count": 11,
   "metadata": {},
   "outputs": [],
   "source": [
    "# Importar bibliotecas importantes\n",
    "import pandas as pd \n"
   ]
  },
  {
   "cell_type": "code",
   "execution_count": 1,
   "metadata": {},
   "outputs": [],
   "source": [
    "# The input data sets and reference data required\n",
    "\n",
    "# Para CSV\n",
    "df = pd.read_csv('file.csv', sep=',')\n",
    "\n",
    "# Para Excel\n",
    "df = pd.read_excel('file.xlsx')\n",
    "sheet_1 = pd.read_excel(df, 'Sheet1')\n",
    "\n",
    "# Via link\n",
    "\n"
   ]
  },
  {
   "cell_type": "code",
   "execution_count": 2,
   "metadata": {},
   "outputs": [],
   "source": [
    "# The output dataset to be created"
   ]
  },
  {
   "cell_type": "code",
   "execution_count": 3,
   "metadata": {},
   "outputs": [],
   "source": [
    "# Descrevendo os dados\n",
    "\n",
    "df.shape\n",
    "df.index\n",
    "df.columns\n",
    "df.info()\n",
    "df.count()\n",
    "\n",
    "df.describe()\n",
    "\n",
    "df['Serie'].sum()\n",
    "df['Serie'].mean()\n"
   ]
  },
  {
   "cell_type": "code",
   "execution_count": null,
   "metadata": {},
   "outputs": [],
   "source": [
    "# Transformando os dados\n",
    "\n",
    "f = lambda x: x*2\n",
    "df['Series'].apply(f)\n",
    "\n",
    "df.drop('Column', axis=1)\n",
    "\n",
    "# Ordenando os dados\n",
    "\n",
    "df.sort_index()\n",
    "df.sort_values(by='Column')\n",
    "df.rank()"
   ]
  },
  {
   "cell_type": "code",
   "execution_count": 4,
   "metadata": {},
   "outputs": [],
   "source": [
    "# The data type of each field, such as text, integer, float, list, etc,\n"
   ]
  },
  {
   "cell_type": "code",
   "execution_count": 5,
   "metadata": {},
   "outputs": [],
   "source": [
    "# The fields that determine the uniqueness of each record\n"
   ]
  },
  {
   "cell_type": "code",
   "execution_count": 6,
   "metadata": {},
   "outputs": [],
   "source": [
    "# The expected data pattern of each field, including whether it can have missing values and a distinct list of values\n"
   ]
  },
  {
   "cell_type": "code",
   "execution_count": 7,
   "metadata": {},
   "outputs": [],
   "source": [
    "# The relationship of the datasets with other existing datasets in the organization\n"
   ]
  },
  {
   "cell_type": "code",
   "execution_count": null,
   "metadata": {},
   "outputs": [],
   "source": [
    "# If a process flow requires multiple steps, the content of the intermediate datasets needs to be defined as well, which can serve different purposes:\n",
    "# - For data quality checking\n",
    "# - Providing process checkpoints and phases, such that the process does not need to always re-run from the beginning when it fails\n",
    "# - Act as the input for another sub-process or usable by other systems or users"
   ]
  },
  {
   "source": [
    "## Seperar regras de negócio do processamento lógico\n",
    "\n",
    "1. Need to be reviewed by business organizations or business analysts\n",
    "2. Could be changed often and require quick turnaround\n",
    "3. Lead to critical impact and consequences if they are not configured or executed correctly"
   ],
   "cell_type": "markdown",
   "metadata": {}
  },
  {
   "source": [
    "### Modularização\n",
    "### Metadata Storage of Business Rules\n",
    "### Business Rules Versioning and Logging"
   ],
   "cell_type": "markdown",
   "metadata": {}
  },
  {
   "source": [
    "## Crie modelos para lidar com excessões desde o começo"
   ],
   "cell_type": "markdown",
   "metadata": {}
  }
 ]
}